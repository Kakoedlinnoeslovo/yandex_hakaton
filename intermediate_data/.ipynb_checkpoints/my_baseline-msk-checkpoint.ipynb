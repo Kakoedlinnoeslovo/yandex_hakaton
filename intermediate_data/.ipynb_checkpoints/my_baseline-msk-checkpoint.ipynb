{
 "cells": [
  {
   "cell_type": "markdown",
   "metadata": {},
   "source": [
    "### Simple baseline\n",
    "\n",
    "In this baseline we take data from the primary source, aggregate it by squares and compute some basic features from those squares.\n",
    "\n",
    "We then fit a gradient boosting ensemble to predict whether it was raining in this particular square & hour.\n",
    "\n",
    "For starters, let's take a look at our data."
   ]
  },
  {
   "cell_type": "code",
   "execution_count": 251,
   "metadata": {},
   "outputs": [],
   "source": [
    "TRAIN_PATH = \"train_msk.tsv\"\n",
    "NETATMO_PATH = \"train_msk_netatmo.tsv\"\n",
    "TEST_PATH = \"test_msk_features.tsv\"\n",
    "TEST_NETATMO_PATH = \"test_msk_netatmo.tsv\"\n",
    "#CITY_PREDICTIONS_PATH = \"/intermediate_data/prediction_msk.csv\""
   ]
  },
  {
   "cell_type": "code",
   "execution_count": null,
   "metadata": {},
   "outputs": [],
   "source": []
  },
  {
   "cell_type": "code",
   "execution_count": 23,
   "metadata": {},
   "outputs": [],
   "source": [
    "from tqdm import tqdm"
   ]
  },
  {
   "cell_type": "code",
   "execution_count": 24,
   "metadata": {},
   "outputs": [],
   "source": [
    "import numpy as np\n",
    "import pandas as pd\n",
    "import matplotlib.pyplot as plt\n",
    "import json\n",
    "%matplotlib inline"
   ]
  },
  {
   "cell_type": "code",
   "execution_count": 7,
   "metadata": {},
   "outputs": [],
   "source": [
    "# hours_since, sq_time, precipitation, rain — только в тренировочном наборе\n",
    "# precipitation — осадки, мм/ч\n",
    "\n",
    "# rain = precipitation > 0.25 — таргет\n",
    "# sq_time — время измерения (timestamp, UTC)\n",
    "# hours_since — число часов с полуночи 1 июля по Москве.\n",
    "# ###\n",
    "# sq_lat — широта центра квадрата, градусы\n",
    "# sq_lon — долгота центра квадрата, градусы\n",
    "# sq_x — абсцисса квадрата на сетке агрегации, целая\n",
    "# sq_y — ордината квадрата на сетке агрегации, целая\n",
    "# day_hour = hours_since % 24\n",
    "# city_code — город (16, 77 или 78)\n",
    "# hour_hash — хэш часа измерения в конкретном городе\n",
    "# ###\n",
    "# u_hashed — обфусцированный DeviceID (в тесте постоянен в пределах часа)\n",
    "# ver_hash — обфусцированная версия Андроида\n",
    "# device_model_hash — обфусцированная модель телефона\n",
    "# ulat — широта пользователя\n",
    "# ulon — долгота пользователя \n",
    "# ###\n",
    "# EventTimestampDelta — время до конца часа, с\n",
    "# SignalStrength — сила сигнала, дБ\n",
    "# cell_hash —  обфусцированный ID ячейки\n",
    "# LAC — Location Area Code ячейки\n",
    "# OperatorID — оператор (1 — МТС, 99 — Билайн...)\n",
    "# eventid — идентификатор измерения\n",
    "# radio — тип станции (1 — GSM, 2 — LTE, 3 — UMTS)\n",
    "# ###\n",
    "# LocationTimestampDelta — время от определения положения до конца часа, с\n",
    "# LocationAltitude — высота, м\n",
    "# LocationDirection — направление телефона\n",
    "# LocationPrecision — точность определения положения, м\n",
    "# LocationSpeed — скорость движения\n",
    "# ###\n",
    "# cell_lat — широта вышки\n",
    "# cell_lon — долгота вышки\n",
    "# range — \"дальнобойность\" вышки\n"
   ]
  },
  {
   "cell_type": "code",
   "execution_count": 12,
   "metadata": {},
   "outputs": [],
   "source": [
    "features_list = ['precipitation', 'ulat', 'ulon', \n",
    "                 'LAC', 'SignalStrength', 'radio', 'LocationPrecision', \n",
    "                 'LocationSpeed', 'rain']"
   ]
  },
  {
   "cell_type": "code",
   "execution_count": 16,
   "metadata": {},
   "outputs": [],
   "source": [
    "train = pd.DataFrame()"
   ]
  },
  {
   "cell_type": "code",
   "execution_count": null,
   "metadata": {},
   "outputs": [],
   "source": [
    "dist = numpy.linalg.norm(a-b)"
   ]
  },
  {
   "cell_type": "code",
   "execution_count": 36,
   "metadata": {},
   "outputs": [],
   "source": [
    "import hashlib"
   ]
  },
  {
   "cell_type": "code",
   "execution_count": 48,
   "metadata": {},
   "outputs": [
    {
     "data": {
      "text/plain": [
       "'f7dda14fe712dcb5b8ff63a67429bdf0d6387fce'"
      ]
     },
     "execution_count": 48,
     "metadata": {},
     "output_type": "execute_result"
    }
   ],
   "source": [
    "sha = hashlib.sha1(b\"2242424242\")\n",
    "sha.hexdigest()"
   ]
  },
  {
   "cell_type": "code",
   "execution_count": 54,
   "metadata": {},
   "outputs": [
    {
     "data": {
      "text/plain": [
       "'576f38148ae68c924070538b45a8ef0f73ed8710'"
      ]
     },
     "execution_count": 54,
     "metadata": {},
     "output_type": "execute_result"
    }
   ],
   "source": [
    "sha = hashlib.sha1(b\"I am a cat\")\n",
    "str(sha.hexdigest())"
   ]
  },
  {
   "cell_type": "code",
   "execution_count": 51,
   "metadata": {},
   "outputs": [
    {
     "data": {
      "text/plain": [
       "71848669"
      ]
     },
     "execution_count": 51,
     "metadata": {},
     "output_type": "execute_result"
    }
   ],
   "source": [
    "abs(hash(\"I am a cat\")) % (10 ** 8)"
   ]
  },
  {
   "cell_type": "code",
   "execution_count": 71,
   "metadata": {},
   "outputs": [],
   "source": [
    "def dist(x1,y1,x2,y2):\n",
    "    return np.linalg.norm(x1-x2) + np.linalg.norm(y2-y1)"
   ]
  },
  {
   "cell_type": "code",
   "execution_count": 127,
   "metadata": {},
   "outputs": [],
   "source": [
    "train = pd.DataFrame()"
   ]
  },
  {
   "cell_type": "code",
   "execution_count": 252,
   "metadata": {},
   "outputs": [],
   "source": [
    "chunks = pd.read_csv(TEST_PATH, sep='\\t',dtype=json.load(open(\"test_col_dtypes.json\")), chunksize=50000)"
   ]
  },
  {
   "cell_type": "code",
   "execution_count": 254,
   "metadata": {},
   "outputs": [],
   "source": [
    "test_data = pd.DataFrame()"
   ]
  },
  {
   "cell_type": "code",
   "execution_count": 239,
   "metadata": {
    "scrolled": false
   },
   "outputs": [],
   "source": [
    "def read_train(chunks):\n",
    "    train = pd.DataFrame()\n",
    "    for chunk in tqdm(chunks):\n",
    "            temp['sqr_dist'] = dist(chunk['sq_lat'],chunk['sq_lon'],\n",
    "                                    chunk['cell_lat'],chunk['cell_lon'])\n",
    "\n",
    "            temp['sqr_dist_x_y'] = np.linalg.norm(chunk['sq_x']-chunk['sq_y'])\n",
    "\n",
    "            temp['usr_dist'] = dist(chunk['ulat'], chunk['ulon'], \n",
    "                                    chunk['cell_lat'],chunk['cell_lon'])\n",
    "\n",
    "            temp_hash = str(chunk['u_hashed'])+ str(chunk['ver_hash'])+ str(chunk['device_model_hash'])\n",
    "            temp['usr_hash'] = abs(hash(temp_hash)) % (10 ** 8)\n",
    "\n",
    "            temp['sig_Strength'] = chunk['SignalStrength'] - chunk['SignalStrength'].mean(axis=0)\n",
    "\n",
    "            temp['sig'] = 0.1*chunk['LocationDirection']+0.1*chunk['LocationPrecision']+0.1* chunk['LocationSpeed']\n",
    "            temp['rain'] = chunk['rain']\n",
    "            train = train.append(temp, ignore_index=True)\n",
    "    return train"
   ]
  },
  {
   "cell_type": "code",
   "execution_count": 255,
   "metadata": {},
   "outputs": [],
   "source": [
    "def read_test(chunks):\n",
    "    train = pd.DataFrame()\n",
    "    for chunk in tqdm(chunks):\n",
    "            temp['sqr_dist'] = dist(chunk['sq_lat'],chunk['sq_lon'],\n",
    "                                    chunk['cell_lat'],chunk['cell_lon'])\n",
    "\n",
    "            temp['sqr_dist_x_y'] = np.linalg.norm(chunk['sq_x']-chunk['sq_y'])\n",
    "\n",
    "            temp['usr_dist'] = dist(chunk['ulat'], chunk['ulon'], \n",
    "                                    chunk['cell_lat'],chunk['cell_lon'])\n",
    "\n",
    "            temp_hash = str(chunk['u_hashed'])+ str(chunk['ver_hash'])+ str(chunk['device_model_hash'])\n",
    "            temp['usr_hash'] = abs(hash(temp_hash)) % (10 ** 8)\n",
    "\n",
    "            temp['sig_Strength'] = chunk['SignalStrength'] - chunk['SignalStrength'].mean(axis=0)\n",
    "\n",
    "            temp['sig'] = 0.1*chunk['LocationDirection']+0.1*chunk['LocationPrecision']+0.1* chunk['LocationSpeed']\n",
    "            train = train.append(temp, ignore_index=True)\n",
    "    return train"
   ]
  },
  {
   "cell_type": "code",
   "execution_count": 256,
   "metadata": {
    "scrolled": false
   },
   "outputs": [
    {
     "name": "stderr",
     "output_type": "stream",
     "text": [
      "\n",
      "0it [00:00, ?it/s]\u001b[A\n",
      "1it [00:00,  1.79it/s]\u001b[A\n",
      "2it [00:01,  1.90it/s]\u001b[A\n",
      "3it [00:01,  1.92it/s]\u001b[A\n",
      "4it [00:02,  1.95it/s]\u001b[A\n",
      "5it [00:02,  1.99it/s]\u001b[A\n",
      "6it [00:02,  2.04it/s]\u001b[A\n",
      "7it [00:03,  2.04it/s]\u001b[A\n",
      "8it [00:03,  2.02it/s]\u001b[A\n",
      "9it [00:04,  2.02it/s]\u001b[A\n",
      "10it [00:04,  2.03it/s]\u001b[A\n",
      "11it [00:05,  2.03it/s]\u001b[A\n",
      "12it [00:05,  2.00it/s]\u001b[A\n",
      "13it [00:06,  1.97it/s]\u001b[A\n",
      "14it [00:06,  1.95it/s]\u001b[A\n",
      "15it [00:07,  1.98it/s]\u001b[A\n",
      "16it [00:08,  1.93it/s]\u001b[A\n",
      "17it [00:08,  1.93it/s]\u001b[A\n",
      "18it [00:09,  1.90it/s]\u001b[A\n",
      "19it [00:09,  1.88it/s]\u001b[A\n",
      "20it [00:10,  1.88it/s]\u001b[A\n",
      "21it [00:10,  1.86it/s]\u001b[A\n",
      "22it [00:11,  1.89it/s]\u001b[A\n",
      "23it [00:11,  1.80it/s]\u001b[A\n",
      "24it [00:12,  1.80it/s]\u001b[A\n",
      "25it [00:12,  1.81it/s]\u001b[A\n",
      "26it [00:13,  1.80it/s]\u001b[A\n",
      "27it [00:14,  1.78it/s]\u001b[A\n",
      "28it [00:14,  1.77it/s]\u001b[A\n",
      "29it [00:15,  1.78it/s]\u001b[A\n",
      "30it [00:15,  1.70it/s]\u001b[A\n",
      "31it [00:16,  1.70it/s]\u001b[A\n",
      "32it [00:17,  1.69it/s]\u001b[A\n",
      "33it [00:17,  1.70it/s]\u001b[A\n",
      "34it [00:18,  1.66it/s]\u001b[A\n",
      "35it [00:18,  1.62it/s]\u001b[A\n",
      "36it [00:19,  1.63it/s]\u001b[A\n",
      "37it [00:20,  1.61it/s]\u001b[A\n",
      "38it [00:20,  1.60it/s]\u001b[A\n",
      "39it [00:21,  1.58it/s]\u001b[A\n",
      "40it [00:22,  1.57it/s]\u001b[A\n",
      "41it [00:22,  1.52it/s]\u001b[A\n",
      "42it [00:23,  1.55it/s]\u001b[A\n",
      "43it [00:24,  1.53it/s]\u001b[A\n",
      "44it [00:24,  1.55it/s]\u001b[A\n",
      "45it [00:25,  1.59it/s]\u001b[A\n",
      "46it [00:25,  1.55it/s]\u001b[A\n",
      "47it [00:26,  1.54it/s]\u001b[A\n",
      "48it [00:27,  1.55it/s]\u001b[A\n",
      "49it [00:27,  1.52it/s]\u001b[A\n",
      "50it [00:28,  1.50it/s]\u001b[A\n",
      "51it [00:29,  1.50it/s]\u001b[A\n",
      "52it [00:30,  1.48it/s]\u001b[A\n",
      "53it [00:30,  1.48it/s]\u001b[A\n",
      "54it [00:31,  1.42it/s]\u001b[A\n",
      "55it [00:32,  1.37it/s]\u001b[A\n",
      "56it [00:32,  1.38it/s]\u001b[A\n",
      "57it [00:33,  1.38it/s]\u001b[A\n",
      "58it [00:34,  1.38it/s]\u001b[A\n",
      "59it [00:35,  1.36it/s]\u001b[A\n",
      "60it [00:35,  1.37it/s]\u001b[A\n",
      "61it [00:36,  1.35it/s]\u001b[A\n",
      "62it [00:37,  1.39it/s]\u001b[A\n",
      "63it [00:38,  1.35it/s]\u001b[A\n",
      "64it [00:38,  1.34it/s]\u001b[A\n",
      "65it [00:39,  1.32it/s]\u001b[A\n",
      "66it [00:40,  1.31it/s]\u001b[A\n",
      "67it [00:41,  1.33it/s]\u001b[A\n",
      "68it [00:41,  1.31it/s]\u001b[A\n",
      "69it [00:42,  1.33it/s]\u001b[A\n",
      "70it [00:43,  1.34it/s]\u001b[A\n",
      "71it [00:44,  1.29it/s]\u001b[A\n",
      "72it [00:45,  1.27it/s]\u001b[A\n",
      "73it [00:45,  1.25it/s]\u001b[A\n",
      "74it [00:46,  1.23it/s]\u001b[A\n",
      "75it [00:47,  1.23it/s]\u001b[A\n",
      "76it [00:48,  1.24it/s]\u001b[A\n",
      "77it [00:49,  1.23it/s]\u001b[A\n",
      "78it [00:50,  1.22it/s]\u001b[A\n",
      "79it [00:50,  1.21it/s]\u001b[A\n",
      "80it [00:51,  1.20it/s]\u001b[A\n",
      "81it [00:52,  1.19it/s]\u001b[A\n",
      "82it [00:53,  1.20it/s]\u001b[A\n",
      "83it [00:54,  1.17it/s]\u001b[A\n",
      "84it [00:55,  1.22it/s]\u001b[A\n",
      "85it [00:55,  1.22it/s]\u001b[A\n",
      "86it [00:56,  1.20it/s]\u001b[A\n",
      "87it [00:57,  1.20it/s]\u001b[A\n",
      "88it [00:58,  1.19it/s]\u001b[A\n",
      "89it [00:59,  1.16it/s]\u001b[A\n",
      "90it [01:00,  1.16it/s]\u001b[A\n",
      "91it [01:01,  1.14it/s]\u001b[A\n",
      "92it [01:01,  1.15it/s]\u001b[A\n",
      "93it [01:02,  1.14it/s]\u001b[A\n",
      "94it [01:03,  1.14it/s]\u001b[A\n",
      "95it [01:04,  1.14it/s]\u001b[A\n",
      "96it [01:05,  1.13it/s]\u001b[A\n",
      "97it [01:06,  1.14it/s]\u001b[A\n",
      "98it [01:07,  1.14it/s]\u001b[A\n",
      "99it [01:08,  1.15it/s]\u001b[A\n",
      "100it [01:09,  1.12it/s]\u001b[A\n",
      "101it [01:10,  1.08it/s]\u001b[A\n",
      "102it [01:10,  1.09it/s]\u001b[A\n",
      "103it [01:11,  1.11it/s]\u001b[A\n",
      "104it [01:12,  1.12it/s]\u001b[A\n",
      "105it [01:13,  1.11it/s]\u001b[A\n",
      "106it [01:14,  1.09it/s]\u001b[A\n",
      "107it [01:15,  1.07it/s]\u001b[A\n",
      "108it [01:16,  1.08it/s]\u001b[A\n",
      "109it [01:17,  1.07it/s]\u001b[A\n",
      "110it [01:18,  1.07it/s]\u001b[A\n",
      "111it [01:19,  1.04it/s]\u001b[A\n",
      "112it [01:20,  1.04it/s]\u001b[A\n",
      "113it [01:21,  1.03s/it]\u001b[A\n",
      "114it [01:22,  1.03s/it]\u001b[A\n",
      "115it [01:23,  1.03s/it]\u001b[A\n",
      "116it [01:24,  1.04s/it]\u001b[A\n",
      "117it [01:25,  1.05s/it]\u001b[A\n",
      "118it [01:26,  1.07s/it]\u001b[A\n",
      "119it [01:27,  1.07s/it]\u001b[A\n",
      "120it [01:29,  1.13s/it]\u001b[A\n",
      "121it [01:30,  1.14s/it]\u001b[A\n",
      "122it [01:31,  1.11s/it]\u001b[A\n",
      "123it [01:32,  1.09s/it]\u001b[A\n",
      "124it [01:33,  1.10s/it]\u001b[A\n",
      "125it [01:34,  1.11s/it]\u001b[A\n",
      "126it [01:35,  1.18s/it]\u001b[A\n",
      "127it [01:37,  1.21s/it]\u001b[A\n",
      "128it [01:38,  1.19s/it]\u001b[A\n",
      "129it [01:39,  1.17s/it]\u001b[A\n",
      "130it [01:40,  1.21s/it]\u001b[A\n",
      "131it [01:42,  1.22s/it]\u001b[A\n",
      "132it [01:43,  1.32s/it]\u001b[A\n",
      "133it [01:44,  1.31s/it]\u001b[A\n",
      "134it [01:45,  1.23s/it]\u001b[A\n",
      "135it [01:47,  1.18s/it]\u001b[A\n",
      "136it [01:48,  1.14s/it]\u001b[A\n",
      "137it [01:49,  1.13s/it]\u001b[A\n",
      "138it [01:50,  1.13s/it]\u001b[A\n",
      "139it [01:51,  1.16s/it]\u001b[A\n",
      "140it [01:52,  1.20s/it]\u001b[A\n",
      "141it [01:54,  1.22s/it]\u001b[A\n",
      "142it [01:55,  1.24s/it]\u001b[A\n",
      "143it [01:56,  1.26s/it]\u001b[A\n",
      "144it [01:57,  1.25s/it]\u001b[A\n",
      "145it [01:59,  1.24s/it]\u001b[A\n",
      "146it [02:00,  1.34s/it]\u001b[A\n",
      "147it [02:02,  1.54s/it]\u001b[A\n",
      "148it [02:04,  1.50s/it]\u001b[A\n",
      "149it [02:05,  1.40s/it]\u001b[A\n",
      "150it [02:06,  1.41s/it]\u001b[A\n",
      "151it [02:07,  1.36s/it]\u001b[A\n",
      "152it [02:12,  2.37s/it]\u001b[A\n",
      "153it [02:15,  2.57s/it]\u001b[A\n",
      "154it [02:18,  2.68s/it]\u001b[A\n",
      "155it [02:20,  2.49s/it]\u001b[A\n",
      "156it [02:22,  2.37s/it]\u001b[A\n",
      "157it [02:25,  2.47s/it]\u001b[A\n",
      "158it [02:27,  2.20s/it]\u001b[A\n",
      "159it [02:28,  1.99s/it]\u001b[A\n",
      "160it [02:30,  1.93s/it]\u001b[A\n",
      "161it [02:32,  1.84s/it]\u001b[A\n",
      "162it [02:33,  1.70s/it]\u001b[A\n",
      "163it [02:36,  2.01s/it]\u001b[A\n",
      "164it [02:37,  1.90s/it]\u001b[A\n",
      "165it [02:39,  1.74s/it]\u001b[A\n",
      "166it [02:40,  1.63s/it]\u001b[A\n",
      "167it [02:42,  1.71s/it]\u001b[A\n",
      "168it [02:44,  1.73s/it]\u001b[A\n",
      "169it [02:45,  1.64s/it]\u001b[A\n",
      "170it [02:47,  1.58s/it]\u001b[A\n",
      "171it [02:48,  1.51s/it]\u001b[A\n",
      "172it [02:49,  1.50s/it]\u001b[A\n",
      "173it [02:51,  1.59s/it]\u001b[A\n",
      "174it [02:53,  1.75s/it]\u001b[A\n",
      "175it [02:55,  1.74s/it]\u001b[A\n",
      "176it [02:56,  1.66s/it]\u001b[A\n",
      "177it [02:58,  1.60s/it]\u001b[A\n",
      "178it [03:00,  1.59s/it]\u001b[A\n",
      "\u001b[A"
     ]
    }
   ],
   "source": [
    "test_data = read_test(chunks)"
   ]
  },
  {
   "cell_type": "code",
   "execution_count": 257,
   "metadata": {
    "scrolled": true
   },
   "outputs": [
    {
     "data": {
      "text/plain": [
       "(3531164, 15)"
      ]
     },
     "execution_count": 257,
     "metadata": {},
     "output_type": "execute_result"
    }
   ],
   "source": [
    "test_data.shape"
   ]
  },
  {
   "cell_type": "code",
   "execution_count": 244,
   "metadata": {},
   "outputs": [],
   "source": [
    "TRAIN_PATH = \"train_spb.tsv\""
   ]
  },
  {
   "cell_type": "code",
   "execution_count": 245,
   "metadata": {},
   "outputs": [],
   "source": [
    "chunks = pd.read_csv(TRAIN_PATH, sep='\\t',dtype=json.load(open(\"train_col_dtypes.json\")), chunksize=50000)"
   ]
  },
  {
   "cell_type": "code",
   "execution_count": null,
   "metadata": {},
   "outputs": [],
   "source": []
  },
  {
   "cell_type": "code",
   "execution_count": null,
   "metadata": {},
   "outputs": [],
   "source": []
  },
  {
   "cell_type": "code",
   "execution_count": null,
   "metadata": {},
   "outputs": [],
   "source": []
  },
  {
   "cell_type": "code",
   "execution_count": null,
   "metadata": {},
   "outputs": [],
   "source": []
  },
  {
   "cell_type": "code",
   "execution_count": null,
   "metadata": {},
   "outputs": [],
   "source": []
  },
  {
   "cell_type": "code",
   "execution_count": 151,
   "metadata": {},
   "outputs": [],
   "source": [
    "train = train.dropna(axis=0, how ='any')"
   ]
  },
  {
   "cell_type": "code",
   "execution_count": 152,
   "metadata": {},
   "outputs": [],
   "source": [
    "train.rain = train.rain.astype(int)"
   ]
  },
  {
   "cell_type": "code",
   "execution_count": 153,
   "metadata": {
    "scrolled": true
   },
   "outputs": [
    {
     "data": {
      "text/html": [
       "<div>\n",
       "<style>\n",
       "    .dataframe thead tr:only-child th {\n",
       "        text-align: right;\n",
       "    }\n",
       "\n",
       "    .dataframe thead th {\n",
       "        text-align: left;\n",
       "    }\n",
       "\n",
       "    .dataframe tbody tr th {\n",
       "        vertical-align: top;\n",
       "    }\n",
       "</style>\n",
       "<table border=\"1\" class=\"dataframe\">\n",
       "  <thead>\n",
       "    <tr style=\"text-align: right;\">\n",
       "      <th></th>\n",
       "      <th>precipitation</th>\n",
       "      <th>ulat</th>\n",
       "      <th>ulon</th>\n",
       "      <th>LAC</th>\n",
       "      <th>SignalStrength</th>\n",
       "      <th>radio</th>\n",
       "      <th>LocationPrecision</th>\n",
       "      <th>LocationSpeed</th>\n",
       "      <th>sqr_dist</th>\n",
       "      <th>sqr_dist_x_y</th>\n",
       "      <th>usr_dist</th>\n",
       "      <th>usr_hash</th>\n",
       "      <th>sig_Strength</th>\n",
       "      <th>sig</th>\n",
       "      <th>rain</th>\n",
       "    </tr>\n",
       "  </thead>\n",
       "  <tbody>\n",
       "    <tr>\n",
       "      <th>10315760</th>\n",
       "      <td>0.0</td>\n",
       "      <td>55.640228</td>\n",
       "      <td>38.168442</td>\n",
       "      <td>5085</td>\n",
       "      <td>-11</td>\n",
       "      <td>-999</td>\n",
       "      <td>3</td>\n",
       "      <td>18</td>\n",
       "      <td>360556.46875</td>\n",
       "      <td>2221.035344</td>\n",
       "      <td>360554.25</td>\n",
       "      <td>95676987</td>\n",
       "      <td>85860.71684</td>\n",
       "      <td>24.4</td>\n",
       "      <td>0</td>\n",
       "    </tr>\n",
       "    <tr>\n",
       "      <th>10315761</th>\n",
       "      <td>0.0</td>\n",
       "      <td>55.640228</td>\n",
       "      <td>38.168442</td>\n",
       "      <td>5085</td>\n",
       "      <td>-29</td>\n",
       "      <td>-999</td>\n",
       "      <td>3</td>\n",
       "      <td>18</td>\n",
       "      <td>360556.46875</td>\n",
       "      <td>2221.035344</td>\n",
       "      <td>360554.25</td>\n",
       "      <td>95676987</td>\n",
       "      <td>85860.71684</td>\n",
       "      <td>24.4</td>\n",
       "      <td>0</td>\n",
       "    </tr>\n",
       "    <tr>\n",
       "      <th>10315762</th>\n",
       "      <td>0.0</td>\n",
       "      <td>55.640228</td>\n",
       "      <td>38.168442</td>\n",
       "      <td>17730</td>\n",
       "      <td>-106</td>\n",
       "      <td>2</td>\n",
       "      <td>3</td>\n",
       "      <td>18</td>\n",
       "      <td>360556.46875</td>\n",
       "      <td>2221.035344</td>\n",
       "      <td>360554.25</td>\n",
       "      <td>95676987</td>\n",
       "      <td>85877.71684</td>\n",
       "      <td>25.3</td>\n",
       "      <td>0</td>\n",
       "    </tr>\n",
       "    <tr>\n",
       "      <th>10315763</th>\n",
       "      <td>0.0</td>\n",
       "      <td>55.639744</td>\n",
       "      <td>38.173195</td>\n",
       "      <td>5085</td>\n",
       "      <td>-41</td>\n",
       "      <td>-999</td>\n",
       "      <td>3</td>\n",
       "      <td>17</td>\n",
       "      <td>360556.46875</td>\n",
       "      <td>2221.035344</td>\n",
       "      <td>360554.25</td>\n",
       "      <td>95676987</td>\n",
       "      <td>85877.71684</td>\n",
       "      <td>25.5</td>\n",
       "      <td>0</td>\n",
       "    </tr>\n",
       "    <tr>\n",
       "      <th>10315764</th>\n",
       "      <td>0.0</td>\n",
       "      <td>55.639744</td>\n",
       "      <td>38.173195</td>\n",
       "      <td>5085</td>\n",
       "      <td>-17</td>\n",
       "      <td>-999</td>\n",
       "      <td>3</td>\n",
       "      <td>17</td>\n",
       "      <td>360556.46875</td>\n",
       "      <td>2221.035344</td>\n",
       "      <td>360554.25</td>\n",
       "      <td>95676987</td>\n",
       "      <td>85877.71684</td>\n",
       "      <td>25.3</td>\n",
       "      <td>0</td>\n",
       "    </tr>\n",
       "  </tbody>\n",
       "</table>\n",
       "</div>"
      ],
      "text/plain": [
       "          precipitation       ulat       ulon    LAC  SignalStrength  radio  \\\n",
       "10315760            0.0  55.640228  38.168442   5085             -11   -999   \n",
       "10315761            0.0  55.640228  38.168442   5085             -29   -999   \n",
       "10315762            0.0  55.640228  38.168442  17730            -106      2   \n",
       "10315763            0.0  55.639744  38.173195   5085             -41   -999   \n",
       "10315764            0.0  55.639744  38.173195   5085             -17   -999   \n",
       "\n",
       "          LocationPrecision  LocationSpeed      sqr_dist  sqr_dist_x_y  \\\n",
       "10315760                  3             18  360556.46875   2221.035344   \n",
       "10315761                  3             18  360556.46875   2221.035344   \n",
       "10315762                  3             18  360556.46875   2221.035344   \n",
       "10315763                  3             17  360556.46875   2221.035344   \n",
       "10315764                  3             17  360556.46875   2221.035344   \n",
       "\n",
       "           usr_dist  usr_hash  sig_Strength   sig  rain  \n",
       "10315760  360554.25  95676987   85860.71684  24.4     0  \n",
       "10315761  360554.25  95676987   85860.71684  24.4     0  \n",
       "10315762  360554.25  95676987   85877.71684  25.3     0  \n",
       "10315763  360554.25  95676987   85877.71684  25.5     0  \n",
       "10315764  360554.25  95676987   85877.71684  25.3     0  "
      ]
     },
     "execution_count": 153,
     "metadata": {},
     "output_type": "execute_result"
    }
   ],
   "source": [
    "train.head()"
   ]
  },
  {
   "cell_type": "code",
   "execution_count": 154,
   "metadata": {
    "scrolled": true
   },
   "outputs": [
    {
     "data": {
      "text/plain": [
       "(19838, 15)"
      ]
     },
     "execution_count": 154,
     "metadata": {},
     "output_type": "execute_result"
    }
   ],
   "source": [
    "train.shape"
   ]
  },
  {
   "cell_type": "code",
   "execution_count": 156,
   "metadata": {},
   "outputs": [
    {
     "name": "stdout",
     "output_type": "stream",
     "text": [
      "Enabling notebook extension jupyter-js-widgets/extension...\r\n",
      "      - Validating: \u001b[32mOK\u001b[0m\r\n"
     ]
    }
   ],
   "source": [
    "!jupyter nbextension enable --py --sys-prefix widgetsnbextension"
   ]
  },
  {
   "cell_type": "code",
   "execution_count": 157,
   "metadata": {},
   "outputs": [],
   "source": [
    "from sklearn.model_selection import train_test_split"
   ]
  },
  {
   "cell_type": "code",
   "execution_count": 172,
   "metadata": {
    "scrolled": true
   },
   "outputs": [
    {
     "data": {
      "text/plain": [
       "(19838, 14)"
      ]
     },
     "execution_count": 172,
     "metadata": {},
     "output_type": "execute_result"
    }
   ],
   "source": [
    "train.iloc[:,0:14].shape"
   ]
  },
  {
   "cell_type": "code",
   "execution_count": 205,
   "metadata": {},
   "outputs": [],
   "source": [
    "X = train.iloc[:,0:14].values"
   ]
  },
  {
   "cell_type": "code",
   "execution_count": 206,
   "metadata": {},
   "outputs": [],
   "source": [
    "y = train.rain.values"
   ]
  },
  {
   "cell_type": "code",
   "execution_count": 208,
   "metadata": {},
   "outputs": [],
   "source": [
    "X_train, X_test, y_train, y_test = train_test_split(X, y, test_size=0.2, random_state=123)"
   ]
  },
  {
   "cell_type": "code",
   "execution_count": 209,
   "metadata": {},
   "outputs": [],
   "source": [
    "import xgboost "
   ]
  },
  {
   "cell_type": "code",
   "execution_count": 214,
   "metadata": {
    "scrolled": true
   },
   "outputs": [
    {
     "data": {
      "text/plain": [
       "<function ndarray.ravel>"
      ]
     },
     "execution_count": 214,
     "metadata": {},
     "output_type": "execute_result"
    }
   ],
   "source": [
    "y_train.ravel"
   ]
  },
  {
   "cell_type": "code",
   "execution_count": 224,
   "metadata": {},
   "outputs": [],
   "source": [
    "model = xgboost.XGBClassifier(max_depth=3,n_estimators=200)\n",
    "# Fit model\n",
    "model.fit(X_train, y_train)\n",
    "# Get predicted classes\n",
    "preds_class = model.predict(X_test)\n",
    "# Get predicted probabilities for each class\n",
    "preds_proba = model.predict_proba(X_test)\n",
    "# Get predicted RawFormulaVal\n",
    "#preds_raw = model.predict(test_data, prediction_type='RawFormulaVal')"
   ]
  },
  {
   "cell_type": "code",
   "execution_count": 230,
   "metadata": {},
   "outputs": [],
   "source": [
    "from sklearn.metrics import roc_auc_score"
   ]
  },
  {
   "cell_type": "code",
   "execution_count": 231,
   "metadata": {},
   "outputs": [
    {
     "data": {
      "text/plain": [
       "0.98333333333333339"
      ]
     },
     "execution_count": 231,
     "metadata": {},
     "output_type": "execute_result"
    }
   ],
   "source": [
    "roc_auc_score(y_test, preds_class)"
   ]
  },
  {
   "cell_type": "code",
   "execution_count": 265,
   "metadata": {},
   "outputs": [],
   "source": [
    "del test_data['rain']"
   ]
  },
  {
   "cell_type": "code",
   "execution_count": 266,
   "metadata": {},
   "outputs": [
    {
     "data": {
      "text/html": [
       "<div>\n",
       "<style>\n",
       "    .dataframe thead tr:only-child th {\n",
       "        text-align: right;\n",
       "    }\n",
       "\n",
       "    .dataframe thead th {\n",
       "        text-align: left;\n",
       "    }\n",
       "\n",
       "    .dataframe tbody tr th {\n",
       "        vertical-align: top;\n",
       "    }\n",
       "</style>\n",
       "<table border=\"1\" class=\"dataframe\">\n",
       "  <thead>\n",
       "    <tr style=\"text-align: right;\">\n",
       "      <th></th>\n",
       "      <th>precipitation</th>\n",
       "      <th>ulat</th>\n",
       "      <th>ulon</th>\n",
       "      <th>LAC</th>\n",
       "      <th>SignalStrength</th>\n",
       "      <th>radio</th>\n",
       "      <th>LocationPrecision</th>\n",
       "      <th>LocationSpeed</th>\n",
       "      <th>sqr_dist</th>\n",
       "      <th>sqr_dist_x_y</th>\n",
       "      <th>usr_dist</th>\n",
       "      <th>usr_hash</th>\n",
       "      <th>sig_Strength</th>\n",
       "      <th>sig</th>\n",
       "    </tr>\n",
       "  </thead>\n",
       "  <tbody>\n",
       "    <tr>\n",
       "      <th>0</th>\n",
       "      <td>0.0</td>\n",
       "      <td>55.640228</td>\n",
       "      <td>38.168442</td>\n",
       "      <td>5085</td>\n",
       "      <td>-11</td>\n",
       "      <td>-999</td>\n",
       "      <td>3</td>\n",
       "      <td>18</td>\n",
       "      <td>336448.375</td>\n",
       "      <td>1259.866263</td>\n",
       "      <td>336447.5625</td>\n",
       "      <td>4241527</td>\n",
       "      <td>NaN</td>\n",
       "      <td>NaN</td>\n",
       "    </tr>\n",
       "    <tr>\n",
       "      <th>1</th>\n",
       "      <td>0.0</td>\n",
       "      <td>55.640228</td>\n",
       "      <td>38.168442</td>\n",
       "      <td>5085</td>\n",
       "      <td>-29</td>\n",
       "      <td>-999</td>\n",
       "      <td>3</td>\n",
       "      <td>18</td>\n",
       "      <td>336448.375</td>\n",
       "      <td>1259.866263</td>\n",
       "      <td>336447.5625</td>\n",
       "      <td>4241527</td>\n",
       "      <td>NaN</td>\n",
       "      <td>NaN</td>\n",
       "    </tr>\n",
       "    <tr>\n",
       "      <th>2</th>\n",
       "      <td>0.0</td>\n",
       "      <td>55.640228</td>\n",
       "      <td>38.168442</td>\n",
       "      <td>17730</td>\n",
       "      <td>-106</td>\n",
       "      <td>2</td>\n",
       "      <td>3</td>\n",
       "      <td>18</td>\n",
       "      <td>336448.375</td>\n",
       "      <td>1259.866263</td>\n",
       "      <td>336447.5625</td>\n",
       "      <td>4241527</td>\n",
       "      <td>NaN</td>\n",
       "      <td>NaN</td>\n",
       "    </tr>\n",
       "    <tr>\n",
       "      <th>3</th>\n",
       "      <td>0.0</td>\n",
       "      <td>55.639744</td>\n",
       "      <td>38.173195</td>\n",
       "      <td>5085</td>\n",
       "      <td>-41</td>\n",
       "      <td>-999</td>\n",
       "      <td>3</td>\n",
       "      <td>17</td>\n",
       "      <td>336448.375</td>\n",
       "      <td>1259.866263</td>\n",
       "      <td>336447.5625</td>\n",
       "      <td>4241527</td>\n",
       "      <td>NaN</td>\n",
       "      <td>NaN</td>\n",
       "    </tr>\n",
       "    <tr>\n",
       "      <th>4</th>\n",
       "      <td>0.0</td>\n",
       "      <td>55.639744</td>\n",
       "      <td>38.173195</td>\n",
       "      <td>5085</td>\n",
       "      <td>-17</td>\n",
       "      <td>-999</td>\n",
       "      <td>3</td>\n",
       "      <td>17</td>\n",
       "      <td>336448.375</td>\n",
       "      <td>1259.866263</td>\n",
       "      <td>336447.5625</td>\n",
       "      <td>4241527</td>\n",
       "      <td>NaN</td>\n",
       "      <td>NaN</td>\n",
       "    </tr>\n",
       "  </tbody>\n",
       "</table>\n",
       "</div>"
      ],
      "text/plain": [
       "   precipitation       ulat       ulon    LAC  SignalStrength  radio  \\\n",
       "0            0.0  55.640228  38.168442   5085             -11   -999   \n",
       "1            0.0  55.640228  38.168442   5085             -29   -999   \n",
       "2            0.0  55.640228  38.168442  17730            -106      2   \n",
       "3            0.0  55.639744  38.173195   5085             -41   -999   \n",
       "4            0.0  55.639744  38.173195   5085             -17   -999   \n",
       "\n",
       "   LocationPrecision  LocationSpeed    sqr_dist  sqr_dist_x_y     usr_dist  \\\n",
       "0                  3             18  336448.375   1259.866263  336447.5625   \n",
       "1                  3             18  336448.375   1259.866263  336447.5625   \n",
       "2                  3             18  336448.375   1259.866263  336447.5625   \n",
       "3                  3             17  336448.375   1259.866263  336447.5625   \n",
       "4                  3             17  336448.375   1259.866263  336447.5625   \n",
       "\n",
       "   usr_hash  sig_Strength  sig  \n",
       "0   4241527           NaN  NaN  \n",
       "1   4241527           NaN  NaN  \n",
       "2   4241527           NaN  NaN  \n",
       "3   4241527           NaN  NaN  \n",
       "4   4241527           NaN  NaN  "
      ]
     },
     "execution_count": 266,
     "metadata": {},
     "output_type": "execute_result"
    }
   ],
   "source": [
    "test_data.head()"
   ]
  },
  {
   "cell_type": "code",
   "execution_count": 267,
   "metadata": {},
   "outputs": [],
   "source": [
    "preds_proba = model.predict_proba(test_data.values)"
   ]
  },
  {
   "cell_type": "code",
   "execution_count": 275,
   "metadata": {
    "scrolled": true
   },
   "outputs": [
    {
     "data": {
      "text/plain": [
       "(3531164,)"
      ]
     },
     "execution_count": 275,
     "metadata": {},
     "output_type": "execute_result"
    }
   ],
   "source": [
    "answer.shape"
   ]
  },
  {
   "cell_type": "code",
   "execution_count": 299,
   "metadata": {},
   "outputs": [],
   "source": [
    "ids = np.array([x for x in range(1,3531165)])"
   ]
  },
  {
   "cell_type": "code",
   "execution_count": 280,
   "metadata": {},
   "outputs": [
    {
     "data": {
      "text/plain": [
       "array([      1,       2,       3, ..., 3531161, 3531162, 3531163])"
      ]
     },
     "execution_count": 280,
     "metadata": {},
     "output_type": "execute_result"
    }
   ],
   "source": [
    "ids"
   ]
  },
  {
   "cell_type": "code",
   "execution_count": 294,
   "metadata": {},
   "outputs": [
    {
     "data": {
      "text/plain": [
       "(3531164,)"
      ]
     },
     "execution_count": 294,
     "metadata": {},
     "output_type": "execute_result"
    }
   ],
   "source": [
    "preds_proba[:,0].shape"
   ]
  },
  {
   "cell_type": "code",
   "execution_count": 300,
   "metadata": {},
   "outputs": [
    {
     "data": {
      "text/plain": [
       "(3531164,)"
      ]
     },
     "execution_count": 300,
     "metadata": {},
     "output_type": "execute_result"
    }
   ],
   "source": [
    "ids.shape"
   ]
  },
  {
   "cell_type": "code",
   "execution_count": null,
   "metadata": {},
   "outputs": [],
   "source": []
  },
  {
   "cell_type": "code",
   "execution_count": 304,
   "metadata": {},
   "outputs": [],
   "source": [
    "answer_csv = pd.DataFrame(ids, columns=['id'])"
   ]
  },
  {
   "cell_type": "code",
   "execution_count": null,
   "metadata": {},
   "outputs": [],
   "source": []
  },
  {
   "cell_type": "code",
   "execution_count": 305,
   "metadata": {},
   "outputs": [],
   "source": [
    "answer_csv['prediction'] = preds_proba[:,0]"
   ]
  },
  {
   "cell_type": "code",
   "execution_count": null,
   "metadata": {},
   "outputs": [],
   "source": [
    "answer_csv['prediction']"
   ]
  },
  {
   "cell_type": "code",
   "execution_count": 321,
   "metadata": {},
   "outputs": [],
   "source": [
    "answer_csv.to_csv('prediction_msk_new.csv', index = False)"
   ]
  },
  {
   "cell_type": "code",
   "execution_count": 334,
   "metadata": {},
   "outputs": [
    {
     "data": {
      "text/plain": [
       "(14331, 6)"
      ]
     },
     "execution_count": 334,
     "metadata": {},
     "output_type": "execute_result"
    }
   ],
   "source": [
    "pd.read_csv('prediction_msk.csv').shape"
   ]
  },
  {
   "cell_type": "code",
   "execution_count": 331,
   "metadata": {},
   "outputs": [
    {
     "data": {
      "text/plain": [
       "(39311, 2)"
      ]
     },
     "execution_count": 331,
     "metadata": {},
     "output_type": "execute_result"
    }
   ],
   "source": [
    "pd.read_csv('baseline_submission.csv').shape"
   ]
  },
  {
   "cell_type": "code",
   "execution_count": 308,
   "metadata": {},
   "outputs": [
    {
     "data": {
      "text/plain": [
       "(22250, 2)"
      ]
     },
     "execution_count": 308,
     "metadata": {},
     "output_type": "execute_result"
    }
   ],
   "source": [
    "answer_csv[answer_csv.prediction <0.5].shape"
   ]
  },
  {
   "cell_type": "code",
   "execution_count": 273,
   "metadata": {},
   "outputs": [
    {
     "data": {
      "text/plain": [
       "(3531164, 2)"
      ]
     },
     "execution_count": 273,
     "metadata": {},
     "output_type": "execute_result"
    }
   ],
   "source": [
    "preds_proba.shape"
   ]
  },
  {
   "cell_type": "code",
   "execution_count": 274,
   "metadata": {},
   "outputs": [],
   "source": [
    "answer = preds_proba[:,0]"
   ]
  },
  {
   "cell_type": "code",
   "execution_count": null,
   "metadata": {},
   "outputs": [],
   "source": [
    "roc_auc_score()"
   ]
  },
  {
   "cell_type": "code",
   "execution_count": 227,
   "metadata": {},
   "outputs": [
    {
     "data": {
      "text/plain": [
       "(3968, 2)"
      ]
     },
     "execution_count": 227,
     "metadata": {},
     "output_type": "execute_result"
    }
   ],
   "source": [
    "preds_proba.shape"
   ]
  },
  {
   "cell_type": "code",
   "execution_count": 226,
   "metadata": {},
   "outputs": [
    {
     "data": {
      "text/plain": [
       "(39311, 2)"
      ]
     },
     "execution_count": 226,
     "metadata": {},
     "output_type": "execute_result"
    }
   ],
   "source": [
    "pd.read_csv('baseline_submission.csv').shape"
   ]
  },
  {
   "cell_type": "code",
   "execution_count": null,
   "metadata": {},
   "outputs": [],
   "source": [
    "x_cols = [col for col in .columns if col not in ['rain']]\n",
    "\n",
    "labels = []\n",
    "values = []\n",
    "for col in x_cols:\n",
    "    labels.append(col)\n",
    "    values.append(np.corrcoef(data[col].values, data.y.values)[0,1])\n",
    "    \n",
    "ind = np.arange(len(labels))\n",
    "width = 0.9\n",
    "fig, ax = plt.subplots(figsize=(12,40))\n",
    "rects = ax.barh(ind, np.array(values), color='y')\n",
    "ax.set_yticks(ind+((width)/2.))\n",
    "ax.set_yticklabels(labels, rotation='horizontal')\n",
    "ax.set_xlabel(\"Correlation coefficient\")\n",
    "ax.set_title(\"Correlation coefficient\")\n",
    "#autolabel(rects)\n",
    "plt.show()"
   ]
  },
  {
   "cell_type": "markdown",
   "metadata": {},
   "source": [
    "## precipitation, ulat, ulon, LAC, SignalStrength, radio,  LocationPrecision, LocationSpeed"
   ]
  },
  {
   "cell_type": "code",
   "execution_count": 8,
   "metadata": {},
   "outputs": [
    {
     "ename": "TypeError",
     "evalue": "'TextFileReader' object is not subscriptable",
     "output_type": "error",
     "traceback": [
      "\u001b[0;31m---------------------------------------------------------------------------\u001b[0m",
      "\u001b[0;31mTypeError\u001b[0m                                 Traceback (most recent call last)",
      "\u001b[0;32m<ipython-input-8-0b9c2a281af8>\u001b[0m in \u001b[0;36m<module>\u001b[0;34m()\u001b[0m\n\u001b[1;32m      1\u001b[0m \u001b[0mplt\u001b[0m\u001b[0;34m.\u001b[0m\u001b[0mfigure\u001b[0m\u001b[0;34m(\u001b[0m\u001b[0mfigsize\u001b[0m\u001b[0;34m=\u001b[0m\u001b[0;34m[\u001b[0m\u001b[0;36m12\u001b[0m\u001b[0;34m,\u001b[0m\u001b[0;36m6\u001b[0m\u001b[0;34m]\u001b[0m\u001b[0;34m)\u001b[0m\u001b[0;34m\u001b[0m\u001b[0m\n\u001b[1;32m      2\u001b[0m \u001b[0mplt\u001b[0m\u001b[0;34m.\u001b[0m\u001b[0msubplot\u001b[0m\u001b[0;34m(\u001b[0m\u001b[0;36m1\u001b[0m\u001b[0;34m,\u001b[0m\u001b[0;36m2\u001b[0m\u001b[0;34m,\u001b[0m\u001b[0;36m1\u001b[0m\u001b[0;34m)\u001b[0m\u001b[0;34m\u001b[0m\u001b[0m\n\u001b[0;32m----> 3\u001b[0;31m \u001b[0mplt\u001b[0m\u001b[0;34m.\u001b[0m\u001b[0mscatter\u001b[0m\u001b[0;34m(\u001b[0m\u001b[0mtrain\u001b[0m\u001b[0;34m[\u001b[0m\u001b[0;34m'ulon'\u001b[0m\u001b[0;34m]\u001b[0m\u001b[0;34m[\u001b[0m\u001b[0;34m:\u001b[0m\u001b[0;34m:\u001b[0m\u001b[0;36m100\u001b[0m\u001b[0;34m]\u001b[0m\u001b[0;34m,\u001b[0m\u001b[0mtrain\u001b[0m\u001b[0;34m[\u001b[0m\u001b[0;34m'ulat'\u001b[0m\u001b[0;34m]\u001b[0m\u001b[0;34m[\u001b[0m\u001b[0;34m:\u001b[0m\u001b[0;34m:\u001b[0m\u001b[0;36m100\u001b[0m\u001b[0;34m]\u001b[0m\u001b[0;34m,\u001b[0m\u001b[0malpha\u001b[0m\u001b[0;34m=\u001b[0m\u001b[0;36m0.01\u001b[0m\u001b[0;34m,\u001b[0m\u001b[0mmarker\u001b[0m\u001b[0;34m=\u001b[0m\u001b[0;34m'.'\u001b[0m\u001b[0;34m)\u001b[0m\u001b[0;34m\u001b[0m\u001b[0m\n\u001b[0m\u001b[1;32m      4\u001b[0m \u001b[0mplt\u001b[0m\u001b[0;34m.\u001b[0m\u001b[0msubplot\u001b[0m\u001b[0;34m(\u001b[0m\u001b[0;36m1\u001b[0m\u001b[0;34m,\u001b[0m\u001b[0;36m2\u001b[0m\u001b[0;34m,\u001b[0m\u001b[0;36m2\u001b[0m\u001b[0;34m)\u001b[0m\u001b[0;34m\u001b[0m\u001b[0m\n\u001b[1;32m      5\u001b[0m \u001b[0mplt\u001b[0m\u001b[0;34m.\u001b[0m\u001b[0mhist\u001b[0m\u001b[0;34m(\u001b[0m\u001b[0mtrain\u001b[0m\u001b[0;34m[\u001b[0m\u001b[0;34m'precipitation'\u001b[0m\u001b[0;34m]\u001b[0m\u001b[0;34m[\u001b[0m\u001b[0;34m:\u001b[0m\u001b[0;34m:\u001b[0m\u001b[0;36m100\u001b[0m\u001b[0;34m]\u001b[0m\u001b[0;34m,\u001b[0m\u001b[0mrange\u001b[0m\u001b[0;34m=\u001b[0m\u001b[0;34m[\u001b[0m\u001b[0;36m0\u001b[0m\u001b[0;34m,\u001b[0m\u001b[0;36m5\u001b[0m\u001b[0;34m]\u001b[0m\u001b[0;34m,\u001b[0m\u001b[0mbins\u001b[0m\u001b[0;34m=\u001b[0m\u001b[0;36m30\u001b[0m\u001b[0;34m)\u001b[0m\u001b[0;34m\u001b[0m\u001b[0m\n",
      "\u001b[0;31mTypeError\u001b[0m: 'TextFileReader' object is not subscriptable"
     ]
    },
    {
     "data": {
      "image/png": "[encoded data removed]",
      "text/plain": [
       "<matplotlib.figure.Figure at 0x1124086a0>"
      ]
     },
     "metadata": {},
     "output_type": "display_data"
    }
   ],
   "source": [
    "plt.figure(figsize=[12,6])\n",
    "plt.subplot(1,2,1)\n",
    "plt.scatter(train['ulon'][::100],train['ulat'][::100],alpha=0.01,marker='.')\n",
    "plt.subplot(1,2,2)\n",
    "plt.hist(train['precipitation'][::100],range=[0,5],bins=30)\n",
    "plt.yscale('log')\n",
    "plt.xlabel(\"precipitation strength\")\n",
    "plt.show()\n",
    "\n",
    "train.head()"
   ]
  },
  {
   "cell_type": "markdown",
   "metadata": {},
   "source": [
    "__Note:__ if you're low on memory, try this:\n",
    "* Most obviously, downsample data\n",
    "* Read one square at a time: read it, compute features, and only then read next square\n",
    "* Entries for each cell appear as subsequent rows in the dataset, so you can just read, say, 25% of the data and process it, then go for next 25%, etc.\n",
    "* Delete training data and intermediate aggregations liky `groupby` after you've done with feature engineering."
   ]
  },
  {
   "cell_type": "code",
   "execution_count": 12,
   "metadata": {},
   "outputs": [],
   "source": [
    "#%reset seems to clear defined variables."
   ]
  },
  {
   "cell_type": "markdown",
   "metadata": {},
   "source": [
    "#### Working with netatmo\n",
    "\n",
    "Customer grade meteostations are excellent sources of data on rain. Alas, they're rather scarce and we're unlikely to find stations in every square/time block. Therefore we're gonna need to quickly find ones from neighboring blocks.\n",
    "\n",
    "For performance reasons, we'll use fast nearest neighbor lookup methods from sklearn.\n",
    "Note that those are not the fastest neighbor lookup methods available, but they should be enough for the baseline.\n",
    "\n",
    "We'll query the users that have neighboring longitude/lattitude within this hour. In this baseline we implicitly compute euclidian distance over latitude/longitude axes which has a number of problems: the distance gets larger as you move from equator to the poles. More importantly, this method does not take adjacent hours into consideration.\n",
    "You are invited to improve on those points in your solution :)\n"
   ]
  },
  {
   "cell_type": "code",
   "execution_count": 13,
   "metadata": {},
   "outputs": [],
   "source": [
    "from sklearn.neighbors import KDTree\n",
    "def preprocess_netatmo(df):\n",
    "    \"\"\"organizes netatmo stations into KDTrees for each distinct time frame\"\"\"\n",
    "    \n",
    "    df_by_hour = df.groupby('hour_hash')\n",
    "    anns = {}\n",
    "    for hour,stations_group in df_by_hour:\n",
    "        anns[hour] = KDTree(stations_group[[\"netatmo_latitude\",\"netatmo_longitude\"]].values,metric='minkowski',p=2)\n",
    "    \n",
    "    #convert groupby to dict to get faster queries\n",
    "    df_by_hour = {group:stations_group for group,stations_group in df_by_hour}\n",
    "    \n",
    "    return df_by_hour,anns\n",
    "        "
   ]
  },
  {
   "cell_type": "code",
   "execution_count": 14,
   "metadata": {},
   "outputs": [],
   "source": [
    "netatmo_groups,netatmo_anns = preprocess_netatmo(pd.read_csv(NETATMO_PATH,na_values=\"None\",sep='\\t',dtype={'hour_hash':\"uint64\"}))"
   ]
  },
  {
   "cell_type": "markdown",
   "metadata": {},
   "source": [
    "## Feature engineering\n",
    "\n",
    "In this baseline, we're going to aggregate all user data from a specific square and a specific hour to predict whether it's raining in this square. We'll split data into blocks by `[sq_lon,sq_lat,sq_time]` and process such blocks independently.\n",
    "\n",
    "<img src=\"https://usercontent1.hubstatic.com/12943886_f520.jpg\" width=240px>\n",
    "\n",
    "\n",
    "The next cell defines a function that extracts features from such blocks. Feel free to add some new features here or drop those you believe to be harmful.\n",
    "\n",
    "Also note that this isn't the only way to process such data. See the [known unknowns](#known_unknowns) section."
   ]
  },
  {
   "cell_type": "code",
   "execution_count": 335,
   "metadata": {},
   "outputs": [],
   "source": [
    "\n",
    "def extract_features(group,netatmo_groups,netatmo_anns):\n",
    "    \"\"\"\n",
    "    Extracts all kinds of features from a dataframe containing users in one group\n",
    "    \"\"\"\n",
    "    features = {}\n",
    "\n",
    "    #square features\n",
    "    square = {col: group[col].iloc[0] for col in group.columns}\n",
    "    \n",
    "    features['square_lat'] = square['sq_lat']\n",
    "    features['square_lon'] = square['sq_lon']\n",
    "    features['time_of_day'] = square['day_hour']\n",
    "\n",
    "    #signal strength\n",
    "    features['signal_mean'] = group['SignalStrength'].mean()\n",
    "    features['signal_var'] = group['SignalStrength'].var()\n",
    "\n",
    "    #features for each user\n",
    "    group_by_user = group.groupby('u_hashed')\n",
    "    group_by_user.apply(lambda group: group['ulat'].var()+group['ulon'].var())\n",
    "    \n",
    "    features['num_users'] = len(group_by_user)\n",
    "    features['mean_entries_per_user'] = group_by_user.apply(len).mean()\n",
    "    features['mean_user_signal_var'] = group_by_user.apply(\n",
    "        lambda user_entries: user_entries['SignalStrength'].var()).mean()\n",
    "    \n",
    "    #netatmo features\n",
    "    if square['hour_hash'] in netatmo_groups:\n",
    "        local_stations,neighbors = netatmo_groups[square['hour_hash']],netatmo_anns[square['hour_hash']]\n",
    "        [distances],[neighbor_ids] = neighbors.query([(square['sq_lat'],square['sq_lon'])],k=10)\n",
    "\n",
    "        neighbor_stations = local_stations.iloc[neighbor_ids]\n",
    "\n",
    "        features['distance_to_closest_station'] = np.min(distances)\n",
    "        features['mean_distance_to_station'] = np.mean(distances)\n",
    "\n",
    "        for colname in ['netatmo_pressure_mbar','netatmo_temperature_c','netatmo_sum_rain_24h',\n",
    "                        'netatmo_humidity_percent',\"netatmo_wind_speed_kmh\",\"netatmo_wind_gust_speed_kmh\"]:\n",
    "            col = neighbor_stations[colname].dropna()\n",
    "            if len(col)!=0:\n",
    "                features[colname+\"_mean\"],features[colname+\"_std\"] = col.mean(),col.var()\n",
    "            else:\n",
    "                features[colname+\"_mean\"],features[colname+\"_std\"] = np.nan,np.nan\n",
    "\n",
    "    return features\n",
    "    "
   ]
  },
  {
   "cell_type": "markdown",
   "metadata": {},
   "source": [
    "We now apply it to all the squares we have.\n",
    "\n",
    "This may take time, more so if you use complex features, so you can try to speed stuff up by using [parallel groupby-apply](https://stackoverflow.com/a/27027632) or similar."
   ]
  },
  {
   "cell_type": "code",
   "execution_count": 336,
   "metadata": {},
   "outputs": [
    {
     "ename": "KeyError",
     "evalue": "'city_code'",
     "output_type": "error",
     "traceback": [
      "\u001b[0;31m---------------------------------------------------------------------------\u001b[0m",
      "\u001b[0;31mKeyError\u001b[0m                                  Traceback (most recent call last)",
      "\u001b[0;32m<ipython-input-336-fd34d3e5172d>\u001b[0m in \u001b[0;36m<module>\u001b[0;34m()\u001b[0m\n\u001b[1;32m      1\u001b[0m \u001b[0;32mfrom\u001b[0m \u001b[0mtqdm\u001b[0m \u001b[0;32mimport\u001b[0m \u001b[0mtqdm\u001b[0m\u001b[0;34m\u001b[0m\u001b[0m\n\u001b[1;32m      2\u001b[0m \u001b[0;34m\u001b[0m\u001b[0m\n\u001b[0;32m----> 3\u001b[0;31m \u001b[0mgroupby\u001b[0m \u001b[0;34m=\u001b[0m \u001b[0mtrain\u001b[0m\u001b[0;34m.\u001b[0m\u001b[0mgroupby\u001b[0m\u001b[0;34m(\u001b[0m\u001b[0;34m[\u001b[0m\u001b[0;34m\"city_code\"\u001b[0m\u001b[0;34m,\u001b[0m\u001b[0;34m\"sq_x\"\u001b[0m\u001b[0;34m,\u001b[0m\u001b[0;34m\"sq_y\"\u001b[0m\u001b[0;34m,\u001b[0m\u001b[0;34m\"hour_hash\"\u001b[0m\u001b[0;34m]\u001b[0m\u001b[0;34m)\u001b[0m\u001b[0;34m\u001b[0m\u001b[0m\n\u001b[0m\u001b[1;32m      4\u001b[0m \u001b[0;34m\u001b[0m\u001b[0m\n\u001b[1;32m      5\u001b[0m \u001b[0mX\u001b[0m\u001b[0;34m,\u001b[0m\u001b[0my\u001b[0m\u001b[0;34m,\u001b[0m\u001b[0mblock_ids\u001b[0m \u001b[0;34m=\u001b[0m \u001b[0;34m[\u001b[0m\u001b[0;34m]\u001b[0m\u001b[0;34m,\u001b[0m\u001b[0;34m[\u001b[0m\u001b[0;34m]\u001b[0m\u001b[0;34m,\u001b[0m\u001b[0;34m[\u001b[0m\u001b[0;34m]\u001b[0m\u001b[0;34m\u001b[0m\u001b[0m\n",
      "\u001b[0;32m/usr/local/lib/python3.6/site-packages/pandas/core/generic.py\u001b[0m in \u001b[0;36mgroupby\u001b[0;34m(self, by, axis, level, as_index, sort, group_keys, squeeze, **kwargs)\u001b[0m\n\u001b[1;32m   4414\u001b[0m         return groupby(self, by=by, axis=axis, level=level, as_index=as_index,\n\u001b[1;32m   4415\u001b[0m                        \u001b[0msort\u001b[0m\u001b[0;34m=\u001b[0m\u001b[0msort\u001b[0m\u001b[0;34m,\u001b[0m \u001b[0mgroup_keys\u001b[0m\u001b[0;34m=\u001b[0m\u001b[0mgroup_keys\u001b[0m\u001b[0;34m,\u001b[0m \u001b[0msqueeze\u001b[0m\u001b[0;34m=\u001b[0m\u001b[0msqueeze\u001b[0m\u001b[0;34m,\u001b[0m\u001b[0;34m\u001b[0m\u001b[0m\n\u001b[0;32m-> 4416\u001b[0;31m                        **kwargs)\n\u001b[0m\u001b[1;32m   4417\u001b[0m \u001b[0;34m\u001b[0m\u001b[0m\n\u001b[1;32m   4418\u001b[0m     def asfreq(self, freq, method=None, how=None, normalize=False,\n",
      "\u001b[0;32m/usr/local/lib/python3.6/site-packages/pandas/core/groupby.py\u001b[0m in \u001b[0;36mgroupby\u001b[0;34m(obj, by, **kwds)\u001b[0m\n\u001b[1;32m   1697\u001b[0m         \u001b[0;32mraise\u001b[0m \u001b[0mTypeError\u001b[0m\u001b[0;34m(\u001b[0m\u001b[0;34m'invalid type: %s'\u001b[0m \u001b[0;34m%\u001b[0m \u001b[0mtype\u001b[0m\u001b[0;34m(\u001b[0m\u001b[0mobj\u001b[0m\u001b[0;34m)\u001b[0m\u001b[0;34m)\u001b[0m\u001b[0;34m\u001b[0m\u001b[0m\n\u001b[1;32m   1698\u001b[0m \u001b[0;34m\u001b[0m\u001b[0m\n\u001b[0;32m-> 1699\u001b[0;31m     \u001b[0;32mreturn\u001b[0m \u001b[0mklass\u001b[0m\u001b[0;34m(\u001b[0m\u001b[0mobj\u001b[0m\u001b[0;34m,\u001b[0m \u001b[0mby\u001b[0m\u001b[0;34m,\u001b[0m \u001b[0;34m**\u001b[0m\u001b[0mkwds\u001b[0m\u001b[0;34m)\u001b[0m\u001b[0;34m\u001b[0m\u001b[0m\n\u001b[0m\u001b[1;32m   1700\u001b[0m \u001b[0;34m\u001b[0m\u001b[0m\n\u001b[1;32m   1701\u001b[0m \u001b[0;34m\u001b[0m\u001b[0m\n",
      "\u001b[0;32m/usr/local/lib/python3.6/site-packages/pandas/core/groupby.py\u001b[0m in \u001b[0;36m__init__\u001b[0;34m(self, obj, keys, axis, level, grouper, exclusions, selection, as_index, sort, group_keys, squeeze, **kwargs)\u001b[0m\n\u001b[1;32m    390\u001b[0m                                                     \u001b[0mlevel\u001b[0m\u001b[0;34m=\u001b[0m\u001b[0mlevel\u001b[0m\u001b[0;34m,\u001b[0m\u001b[0;34m\u001b[0m\u001b[0m\n\u001b[1;32m    391\u001b[0m                                                     \u001b[0msort\u001b[0m\u001b[0;34m=\u001b[0m\u001b[0msort\u001b[0m\u001b[0;34m,\u001b[0m\u001b[0;34m\u001b[0m\u001b[0m\n\u001b[0;32m--> 392\u001b[0;31m                                                     mutated=self.mutated)\n\u001b[0m\u001b[1;32m    393\u001b[0m \u001b[0;34m\u001b[0m\u001b[0m\n\u001b[1;32m    394\u001b[0m         \u001b[0mself\u001b[0m\u001b[0;34m.\u001b[0m\u001b[0mobj\u001b[0m \u001b[0;34m=\u001b[0m \u001b[0mobj\u001b[0m\u001b[0;34m\u001b[0m\u001b[0m\n",
      "\u001b[0;32m/usr/local/lib/python3.6/site-packages/pandas/core/groupby.py\u001b[0m in \u001b[0;36m_get_grouper\u001b[0;34m(obj, key, axis, level, sort, mutated)\u001b[0m\n\u001b[1;32m   2688\u001b[0m                 \u001b[0min_axis\u001b[0m\u001b[0;34m,\u001b[0m \u001b[0mname\u001b[0m\u001b[0;34m,\u001b[0m \u001b[0mlevel\u001b[0m\u001b[0;34m,\u001b[0m \u001b[0mgpr\u001b[0m \u001b[0;34m=\u001b[0m \u001b[0;32mFalse\u001b[0m\u001b[0;34m,\u001b[0m \u001b[0;32mNone\u001b[0m\u001b[0;34m,\u001b[0m \u001b[0mgpr\u001b[0m\u001b[0;34m,\u001b[0m \u001b[0;32mNone\u001b[0m\u001b[0;34m\u001b[0m\u001b[0m\n\u001b[1;32m   2689\u001b[0m             \u001b[0;32melse\u001b[0m\u001b[0;34m:\u001b[0m\u001b[0;34m\u001b[0m\u001b[0m\n\u001b[0;32m-> 2690\u001b[0;31m                 \u001b[0;32mraise\u001b[0m \u001b[0mKeyError\u001b[0m\u001b[0;34m(\u001b[0m\u001b[0mgpr\u001b[0m\u001b[0;34m)\u001b[0m\u001b[0;34m\u001b[0m\u001b[0m\n\u001b[0m\u001b[1;32m   2691\u001b[0m         \u001b[0;32melif\u001b[0m \u001b[0misinstance\u001b[0m\u001b[0;34m(\u001b[0m\u001b[0mgpr\u001b[0m\u001b[0;34m,\u001b[0m \u001b[0mGrouper\u001b[0m\u001b[0;34m)\u001b[0m \u001b[0;32mand\u001b[0m \u001b[0mgpr\u001b[0m\u001b[0;34m.\u001b[0m\u001b[0mkey\u001b[0m \u001b[0;32mis\u001b[0m \u001b[0;32mnot\u001b[0m \u001b[0;32mNone\u001b[0m\u001b[0;34m:\u001b[0m\u001b[0;34m\u001b[0m\u001b[0m\n\u001b[1;32m   2692\u001b[0m             \u001b[0;31m# Add key to exclusions\u001b[0m\u001b[0;34m\u001b[0m\u001b[0;34m\u001b[0m\u001b[0m\n",
      "\u001b[0;31mKeyError\u001b[0m: 'city_code'"
     ]
    }
   ],
   "source": [
    "from tqdm import tqdm\n",
    "\n",
    "groupby = train.groupby([\"city_code\",\"sq_x\",\"sq_y\",\"hour_hash\"])\n",
    "\n",
    "X,y,block_ids = [],[],[]\n",
    "\n",
    "for block_id in tqdm(groupby.groups):\n",
    "    group = groupby.get_group(block_id)\n",
    "    X.append(extract_features(group,netatmo_groups,netatmo_anns))\n",
    "    y.append(group.iloc[0]['rain'])\n",
    "    block_ids.append(block_id+(group.iloc[0][\"hours_since\"],))\n",
    "\n",
    "X = pd.DataFrame(X).fillna(-999.)\n",
    "y = np.array(y)\n",
    "block_ids = pd.DataFrame(block_ids,columns=[\"city_code\",\"sq_x\",\"sq_y\",\"hour_hash\",\"hours_since\"])"
   ]
  },
  {
   "cell_type": "markdown",
   "metadata": {},
   "source": [
    "__Note:__ If you're low on memory, it's time to either delete train & groupby or pickle X/y/block_ids and restart."
   ]
  },
  {
   "cell_type": "markdown",
   "metadata": {},
   "source": [
    "### Classifier\n",
    "\n",
    "Once the data is processed, it's time to train some machine learning model that would predict rain given all features we gathered.\n",
    "\n",
    "Since our features are all of different nature and unit scale (hours,decibels,degrees,etc.), it makes sense to use decision tree-based methods to for classification.\n",
    "\n",
    "\n",
    "<img src=\"http://zdnet2.cbsistatic.com/hub/i/2017/07/18/d3f47c3e-8529-4855-a0e1-c686ee3b4007/d1113adf74bb59c3b46419a531c39c3e/orig.png\" width=320>\n",
    "In particular, we apply [CatBoost](https://catboost.yandex/), Yandex' recent open source gradient boosting implementation.\n",
    "\n",
    "To make this baseline simple, we use catboost with default settings. You can certainly find a better combination of parameters. \n",
    "\n",
    "Here's a [guide](https://tech.yandex.com/catboost/doc/dg/concepts/parameter-tuning-docpage/) on how catboost hyperparameters work."
   ]
  },
  {
   "cell_type": "code",
   "execution_count": 9,
   "metadata": {},
   "outputs": [
    {
     "name": "stdout",
     "output_type": "stream",
     "text": [
      "Training samples: 38810; Validation samples: 6807\n"
     ]
    }
   ],
   "source": [
    "in_train = block_ids['hours_since'] <= np.percentile(block_ids['hours_since'],85) #leave last 15% for validation\n",
    "\n",
    "X_train,y_train = X[in_train],y[in_train]\n",
    "X_val,y_val = X[~in_train],y[~in_train]\n",
    "print(\"Training samples: %i; Validation samples: %i\"%(len(X_train),len(X_val)))"
   ]
  },
  {
   "cell_type": "code",
   "execution_count": 10,
   "metadata": {},
   "outputs": [],
   "source": [
    "#if you don't have catboost installed, use !pip install catboost\n",
    "from catboost import CatBoostClassifier\n",
    "\n",
    "model = CatBoostClassifier().fit(X_train,y_train)"
   ]
  },
  {
   "cell_type": "markdown",
   "metadata": {},
   "source": [
    "### Analyzing results\n",
    "\n",
    "Here you can see importances of all individual features, ranked from worst to best.\n",
    "\n"
   ]
  },
  {
   "cell_type": "code",
   "execution_count": 11,
   "metadata": {},
   "outputs": [
    {
     "name": "stdout",
     "output_type": "stream",
     "text": [
      "('Train ROC AUC:', 0.85272121295471426)\n",
      "('Val ROC AUC:', 0.77837052933595363)\n"
     ]
    },
    {
     "data": {
      "text/plain": [
       "<matplotlib.legend.Legend at 0x12c9dbd50>"
      ]
     },
     "execution_count": 11,
     "metadata": {},
     "output_type": "execute_result"
    },
    {
     "data": {
      "image/png": "[encoded data removed]",
      "text/plain": [
       "<matplotlib.figure.Figure at 0x5cb9550>"
      ]
     },
     "metadata": {},
     "output_type": "display_data"
    }
   ],
   "source": [
    "from sklearn.metrics import roc_auc_score,roc_curve\n",
    "import matplotlib.pyplot as plt\n",
    "%matplotlib inline\n",
    "\n",
    "y_train_pred = model.predict_proba(X_train)[:,1]\n",
    "print(\"Train ROC AUC:\",roc_auc_score(y_train,y_train_pred))\n",
    "\n",
    "fpr,tpr,_ = roc_curve(y_train, y_train_pred)\n",
    "plt.plot(fpr,tpr,label='train AUC')\n",
    "\n",
    "y_val_pred = model.predict_proba(X_val)[:,1]\n",
    "print(\"Val ROC AUC:\",roc_auc_score(y_val,y_val_pred))\n",
    "\n",
    "fpr,tpr,_ = roc_curve(y_val, y_val_pred)\n",
    "plt.plot(fpr,tpr,label='validation AUC')\n",
    "\n",
    "plt.plot([0,1],[0,1])\n",
    "plt.legend(loc='lower right')"
   ]
  },
  {
   "cell_type": "code",
   "execution_count": 12,
   "metadata": {},
   "outputs": [
    {
     "data": {
      "image/png": "[encoded data removed]",
      "text/plain": [
       "<matplotlib.figure.Figure at 0x12a8d5890>"
      ]
     },
     "metadata": {},
     "output_type": "display_data"
    }
   ],
   "source": [
    "order = np.argsort(model._feature_importance)\n",
    "plt.figure(figsize=[6,9])\n",
    "plt.plot(np.array(model._feature_importance)[order],range(len(order)),marker='o')\n",
    "plt.hlines(range(len(order)),np.zeros_like(order),np.array(model._feature_importance)[order],linestyles=':')\n",
    "plt.yticks(range(X.shape[1]),X.columns[order]);\n",
    "plt.tick_params(labelsize=16)\n",
    "plt.xlim([0.1,max(model._feature_importance)*1.5])\n",
    "plt.ylim(-1,len(order))\n",
    "plt.xscale('log')"
   ]
  },
  {
   "cell_type": "markdown",
   "metadata": {
    "collapsed": true
   },
   "source": [
    "## Final model and uploading the results\n",
    "\n",
    "\n",
    "Competition data contains three cities: Moscow, Saint-Petersburg and Kazan. To submit a prediction, you'll have to run this baseline three times separately for each city and concatenate the results. \n",
    "\n",
    "The code assumes that you ran this solution for each city (see comments below)."
   ]
  },
  {
   "cell_type": "code",
   "execution_count": 12,
   "metadata": {
    "collapsed": true
   },
   "outputs": [],
   "source": [
    "#Train the model on full data. Copy model definition here.\n",
    "model = CatBoostClassifier().fit(X,y)"
   ]
  },
  {
   "cell_type": "code",
   "execution_count": 333,
   "metadata": {},
   "outputs": [
    {
     "ename": "NameError",
     "evalue": "name 'preprocess_netatmo' is not defined",
     "output_type": "error",
     "traceback": [
      "\u001b[0;31m---------------------------------------------------------------------------\u001b[0m",
      "\u001b[0;31mNameError\u001b[0m                                 Traceback (most recent call last)",
      "\u001b[0;32m<ipython-input-333-54a94b63b1b2>\u001b[0m in \u001b[0;36m<module>\u001b[0;34m()\u001b[0m\n\u001b[1;32m      2\u001b[0m \u001b[0mtest\u001b[0m \u001b[0;34m=\u001b[0m \u001b[0mpd\u001b[0m\u001b[0;34m.\u001b[0m\u001b[0mread_csv\u001b[0m\u001b[0;34m(\u001b[0m\u001b[0mTEST_PATH\u001b[0m\u001b[0;34m,\u001b[0m \u001b[0msep\u001b[0m\u001b[0;34m=\u001b[0m\u001b[0;34m'\\t'\u001b[0m\u001b[0;34m,\u001b[0m\u001b[0mdtype\u001b[0m\u001b[0;34m=\u001b[0m\u001b[0mjson\u001b[0m\u001b[0;34m.\u001b[0m\u001b[0mload\u001b[0m\u001b[0;34m(\u001b[0m\u001b[0mopen\u001b[0m\u001b[0;34m(\u001b[0m\u001b[0;34m\"test_col_dtypes.json\"\u001b[0m\u001b[0;34m)\u001b[0m\u001b[0;34m)\u001b[0m\u001b[0;34m,\u001b[0m\u001b[0;34m)\u001b[0m\u001b[0;34m\u001b[0m\u001b[0m\n\u001b[1;32m      3\u001b[0m \u001b[0mtest_groupby\u001b[0m \u001b[0;34m=\u001b[0m \u001b[0mtest\u001b[0m\u001b[0;34m.\u001b[0m\u001b[0mgroupby\u001b[0m\u001b[0;34m(\u001b[0m\u001b[0;34m[\u001b[0m\u001b[0;34m\"city_code\"\u001b[0m\u001b[0;34m,\u001b[0m\u001b[0;34m\"sq_x\"\u001b[0m\u001b[0;34m,\u001b[0m\u001b[0;34m\"sq_y\"\u001b[0m\u001b[0;34m,\u001b[0m\u001b[0;34m\"hour_hash\"\u001b[0m\u001b[0;34m]\u001b[0m\u001b[0;34m)\u001b[0m\u001b[0;34m\u001b[0m\u001b[0m\n\u001b[0;32m----> 4\u001b[0;31m test_netatmo_groups,test_netatmo_anns = preprocess_netatmo(pd.read_csv(TEST_NETATMO_PATH,na_values=\"None\",\n\u001b[0m\u001b[1;32m      5\u001b[0m                                                                        sep='\\t',dtype={'hour_hash':\"uint64\"}))\n",
      "\u001b[0;31mNameError\u001b[0m: name 'preprocess_netatmo' is not defined"
     ]
    }
   ],
   "source": [
    "\n",
    "test = pd.read_csv(TEST_PATH, sep='\\t',dtype=json.load(open(\"test_col_dtypes.json\")),)\n",
    "test_groupby = test.groupby([\"city_code\",\"sq_x\",\"sq_y\",\"hour_hash\"])\n",
    "test_netatmo_groups,test_netatmo_anns = preprocess_netatmo(pd.read_csv(TEST_NETATMO_PATH,na_values=\"None\",\n",
    "                                                                       sep='\\t',dtype={'hour_hash':\"uint64\"}))\n"
   ]
  },
  {
   "cell_type": "code",
   "execution_count": null,
   "metadata": {},
   "outputs": [],
   "source": [
    "test"
   ]
  },
  {
   "cell_type": "code",
   "execution_count": 17,
   "metadata": {},
   "outputs": [
    {
     "name": "stderr",
     "output_type": "stream",
     "text": [
      "100%|██████████| 14331/14331 [04:10<00:00, 57.27it/s]\n"
     ]
    }
   ],
   "source": [
    "X_test,test_block_ids = [],[]\n",
    "for block_id in tqdm(test_groupby.groups):\n",
    "    group = test_groupby.get_group(block_id)\n",
    "    X_test.append(extract_features(group,test_netatmo_groups,test_netatmo_anns))\n",
    "    test_block_ids.append(block_id)\n",
    "    \n",
    "X_test = pd.DataFrame(X_test)\n",
    "test_block_ids = pd.DataFrame(test_block_ids,columns=[\"city_code\",\"sq_x\",\"sq_y\",\"hour_hash\"])"
   ]
  },
  {
   "cell_type": "code",
   "execution_count": 19,
   "metadata": {},
   "outputs": [
    {
     "data": {
      "text/html": [
       "<div>\n",
       "<style>\n",
       "    .dataframe thead tr:only-child th {\n",
       "        text-align: right;\n",
       "    }\n",
       "\n",
       "    .dataframe thead th {\n",
       "        text-align: left;\n",
       "    }\n",
       "\n",
       "    .dataframe tbody tr th {\n",
       "        vertical-align: top;\n",
       "    }\n",
       "</style>\n",
       "<table border=\"1\" class=\"dataframe\">\n",
       "  <thead>\n",
       "    <tr style=\"text-align: right;\">\n",
       "      <th></th>\n",
       "      <th>city_code</th>\n",
       "      <th>sq_x</th>\n",
       "      <th>sq_y</th>\n",
       "      <th>hour_hash</th>\n",
       "      <th>prediction</th>\n",
       "    </tr>\n",
       "  </thead>\n",
       "  <tbody>\n",
       "    <tr>\n",
       "      <th>0</th>\n",
       "      <td>77</td>\n",
       "      <td>2</td>\n",
       "      <td>-26</td>\n",
       "      <td>11479157685641531774</td>\n",
       "      <td>0.398530</td>\n",
       "    </tr>\n",
       "    <tr>\n",
       "      <th>1</th>\n",
       "      <td>77</td>\n",
       "      <td>-15</td>\n",
       "      <td>22</td>\n",
       "      <td>7134052880921394976</td>\n",
       "      <td>0.014053</td>\n",
       "    </tr>\n",
       "    <tr>\n",
       "      <th>2</th>\n",
       "      <td>77</td>\n",
       "      <td>3</td>\n",
       "      <td>0</td>\n",
       "      <td>10628176342391731059</td>\n",
       "      <td>0.300995</td>\n",
       "    </tr>\n",
       "    <tr>\n",
       "      <th>3</th>\n",
       "      <td>77</td>\n",
       "      <td>7</td>\n",
       "      <td>3</td>\n",
       "      <td>9633101649755887465</td>\n",
       "      <td>0.049444</td>\n",
       "    </tr>\n",
       "    <tr>\n",
       "      <th>4</th>\n",
       "      <td>77</td>\n",
       "      <td>10</td>\n",
       "      <td>13</td>\n",
       "      <td>3315759869336143377</td>\n",
       "      <td>0.057584</td>\n",
       "    </tr>\n",
       "  </tbody>\n",
       "</table>\n",
       "</div>"
      ],
      "text/plain": [
       "   city_code  sq_x  sq_y             hour_hash  prediction\n",
       "0         77     2   -26  11479157685641531774    0.398530\n",
       "1         77   -15    22   7134052880921394976    0.014053\n",
       "2         77     3     0  10628176342391731059    0.300995\n",
       "3         77     7     3   9633101649755887465    0.049444\n",
       "4         77    10    13   3315759869336143377    0.057584"
      ]
     },
     "execution_count": 19,
     "metadata": {},
     "output_type": "execute_result"
    }
   ],
   "source": [
    "#This code saves the prediction for one city.\n",
    "prediction_for_one_city = test_block_ids.copy()\n",
    "prediction_for_one_city[\"prediction\"] = model.predict_proba(X_test)[:,1]\n",
    "prediction_for_one_city.to_csv(CITY_PREDICTIONS_PATH)\n",
    "\n",
    "prediction_for_one_city.head()\n",
    "\n",
    "#WARNING! you must run this notebook for all three regions before proceeding!\n",
    "#We assume that you have prediction_msk.csv , prediction_spb.csv and prediction_kazan.csv files prepared."
   ]
  },
  {
   "cell_type": "code",
   "execution_count": 19,
   "metadata": {
    "collapsed": true
   },
   "outputs": [],
   "source": [
    "data = X.copy()\n",
    "data[\"target\"] = y\n",
    "data.to_csv(\"intermediate_data/msk.csv\")\n",
    "X_test.to_csv(\"intermediate_data/msk_test.csv\")"
   ]
  },
  {
   "cell_type": "markdown",
   "metadata": {},
   "source": [
    "Gather all predictions and make submission file."
   ]
  },
  {
   "cell_type": "markdown",
   "metadata": {},
   "source": [
    "\n",
    " ```\n",
    " \n",
    " ```\n",
    "\n",
    "![img](https://images-na.ssl-images-amazon.com/images/I/31la29lBQxL.jpg)\n",
    "\n",
    "\n",
    " ```\n",
    " \n",
    " ```\n"
   ]
  }
 ],
 "metadata": {
  "kernelspec": {
   "display_name": "Python 3",
   "language": "python",
   "name": "python3"
  },
  "language_info": {
   "codemirror_mode": {
    "name": "ipython",
    "version": 3
   },
   "file_extension": ".py",
   "mimetype": "text/x-python",
   "name": "python",
   "nbconvert_exporter": "python",
   "pygments_lexer": "ipython3",
   "version": "3.6.2"
  }
 },
 "nbformat": 4,
 "nbformat_minor": 2
}
